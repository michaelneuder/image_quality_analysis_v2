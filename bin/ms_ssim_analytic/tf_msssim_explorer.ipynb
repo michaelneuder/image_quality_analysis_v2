{
 "cells": [
  {
   "cell_type": "code",
   "execution_count": 13,
   "metadata": {
    "collapsed": true
   },
   "outputs": [],
   "source": [
    "import numpy as np\n",
    "import pandas as pd\n",
    "import matplotlib.pyplot as plt\n",
    "import tf_ms_ssim\n",
    "import sys\n",
    "sys.path.insert(0,'/home/dirty_mike/Dropbox/github/image_quality_analysis/bin')\n",
    "import iqa_tools as iqa\n",
    "import tensorflow as tf\n",
    "from tensorflow.python.saved_model import tag_constants\n",
    "from scipy import signal\n",
    "from scipy.ndimage.filters import convolve"
   ]
  },
  {
   "cell_type": "code",
   "execution_count": 2,
   "metadata": {
    "collapsed": true
   },
   "outputs": [],
   "source": [
    "# writing a single image pair to file to demo with ms_ssim code\n",
    "data_path = '/home/dirty_mike/Dropbox/github/image_quality_analysis/data/sample_data/'\n",
    "\n",
    "orig_500 = pd.read_csv('{}orig_500.txt'.format(data_path), header=None, delim_whitespace = True).values.reshape(500,96,96)\n",
    "recon_500 = pd.read_csv('{}recon_500.txt'.format(data_path), header=None, delim_whitespace = True).values.reshape(500,96,96)"
   ]
  },
  {
   "cell_type": "code",
   "execution_count": 4,
   "metadata": {},
   "outputs": [
    {
     "name": "stderr",
     "output_type": "stream",
     "text": [
      "/usr/local/lib/python3.5/dist-packages/scipy/signal/signaltools.py:375: FutureWarning: Conversion of the second argument of issubdtype from `complex` to `np.complexfloating` is deprecated. In future, it will be treated as `np.complex128 == np.dtype(complex).type`.\n",
      "  complex_result = (np.issubdtype(in1.dtype, complex) or\n",
      "/usr/local/lib/python3.5/dist-packages/scipy/signal/signaltools.py:376: FutureWarning: Conversion of the second argument of issubdtype from `complex` to `np.complexfloating` is deprecated. In future, it will be treated as `np.complex128 == np.dtype(complex).type`.\n",
      "  np.issubdtype(in2.dtype, complex))\n"
     ]
    }
   ],
   "source": [
    "msssim_res = []\n",
    "for ii in range(500):\n",
    "    res = tf_ms_ssim.MultiScaleSSIM(np.reshape(orig_500[ii,:,:], [1,96,96,1]), np.reshape(recon_500[ii,:,:], [1,96,96,1]))\n",
    "    msssim_res.append(res)"
   ]
  },
  {
   "cell_type": "code",
   "execution_count": 6,
   "metadata": {},
   "outputs": [
    {
     "data": {
      "text/plain": [
       "(0.9054053585150457, 0.029498462759533703)"
      ]
     },
     "execution_count": 6,
     "metadata": {},
     "output_type": "execute_result"
    }
   ],
   "source": [
    "np.mean(msssim_res), np.std(msssim_res)"
   ]
  },
  {
   "cell_type": "code",
   "execution_count": 30,
   "metadata": {},
   "outputs": [
    {
     "name": "stdout",
     "output_type": "stream",
     "text": [
      "(1, 86, 86, 1)\n"
     ]
    },
    {
     "name": "stderr",
     "output_type": "stream",
     "text": [
      "/usr/local/lib/python3.5/dist-packages/scipy/signal/signaltools.py:375: FutureWarning: Conversion of the second argument of issubdtype from `complex` to `np.complexfloating` is deprecated. In future, it will be treated as `np.complex128 == np.dtype(complex).type`.\n",
      "  complex_result = (np.issubdtype(in1.dtype, complex) or\n",
      "/usr/local/lib/python3.5/dist-packages/scipy/signal/signaltools.py:376: FutureWarning: Conversion of the second argument of issubdtype from `complex` to `np.complexfloating` is deprecated. In future, it will be treated as `np.complex128 == np.dtype(complex).type`.\n",
      "  np.issubdtype(in2.dtype, complex))\n"
     ]
    },
    {
     "data": {
      "text/plain": [
       "(0.6324433225363714, 0.6763697750299543)"
      ]
     },
     "execution_count": 30,
     "metadata": {},
     "output_type": "execute_result"
    }
   ],
   "source": [
    "def _FSpecialGauss(size, sigma):\n",
    "    radius = size // 2\n",
    "    offset = 0.0\n",
    "    start, stop = -radius, radius + 1\n",
    "    if size % 2 == 0:\n",
    "        offset = 0.5\n",
    "        stop -= 1\n",
    "    x, y = np.mgrid[offset + start:stop, offset + start:stop]\n",
    "    assert len(x) == size\n",
    "    g = np.exp(-((x**2 + y**2)/(2.0 * sigma**2)))\n",
    "    return g / g.sum()\n",
    "\n",
    "\n",
    "def _SSIMForMultiScale(img1, img2, max_val=255, filter_size=11,\n",
    "                       filter_sigma=1.5, k1=0.01, k2=0.03):\n",
    "    if img1.shape != img2.shape:\n",
    "        raise RuntimeError('Input images must have the same shape (%s vs. %s).',\n",
    "                       img1.shape, img2.shape)\n",
    "    if img1.ndim != 4:\n",
    "        raise RuntimeError('Input images must have four dimensions, not %d',\n",
    "                       img1.ndim)\n",
    "\n",
    "    img1 = img1.astype(np.float64)\n",
    "    img2 = img2.astype(np.float64)\n",
    "    _, height, width, _ = img1.shape\n",
    "\n",
    "    # Filter size can't be larger than height or width of images.\n",
    "    size = min(filter_size, height, width)\n",
    "    \n",
    "    # Scale down sigma if a smaller filter size is used.\n",
    "    sigma = size * filter_sigma / filter_size if filter_size else 0\n",
    "\n",
    "    if filter_size:\n",
    "        window = np.reshape(_FSpecialGauss(size, sigma), (1, size, size, 1))\n",
    "        mu1 = signal.fftconvolve(img1, window, mode='valid')\n",
    "        print(mu1.shape)\n",
    "        mu2 = signal.fftconvolve(img2, window, mode='valid')\n",
    "        sigma11 = signal.fftconvolve(img1 * img1, window, mode='valid')\n",
    "        sigma22 = signal.fftconvolve(img2 * img2, window, mode='valid')\n",
    "        sigma12 = signal.fftconvolve(img1 * img2, window, mode='valid')\n",
    "    else:\n",
    "        # Empty blur kernel so no need to convolve.\n",
    "        mu1, mu2 = img1, img2\n",
    "        sigma11 = img1 * img1\n",
    "        sigma22 = img2 * img2\n",
    "        sigma12 = img1 * img2\n",
    "\n",
    "    mu11 = mu1 * mu1\n",
    "    mu22 = mu2 * mu2\n",
    "    mu12 = mu1 * mu2\n",
    "    sigma11 -= mu11\n",
    "    sigma22 -= mu22\n",
    "    sigma12 -= mu12\n",
    "\n",
    "    # Calculate intermediate values used by both ssim and cs_map.\n",
    "    c1 = (k1 * max_val) ** 2\n",
    "    c2 = (k2 * max_val) ** 2\n",
    "    v1 = 2.0 * sigma12 + c2\n",
    "    v2 = sigma11 + sigma22 + c2\n",
    "    ssim = np.mean((((2.0 * mu12 + c1) * v1) / ((mu11 + mu22 + c1) * v2)))\n",
    "    cs = np.mean(v1 / v2)\n",
    "    return ssim, cs\n",
    "_SSIMForMultiScale(demo_images[0],demo_images[1])"
   ]
  },
  {
   "cell_type": "code",
   "execution_count": 10,
   "metadata": {},
   "outputs": [
    {
     "data": {
      "text/plain": [
       "(1, 96, 96, 1)"
      ]
     },
     "execution_count": 10,
     "metadata": {},
     "output_type": "execute_result"
    }
   ],
   "source": [
    "demo_images = [np.reshape(orig_500[0,:,:], [1,96,96,1]),np.reshape(recon_500[0,:,:], [1,96,96,1])]\n",
    "demo_images[0].shape"
   ]
  },
  {
   "cell_type": "code",
   "execution_count": 27,
   "metadata": {},
   "outputs": [],
   "source": [
    "size=11;sigma=1.5\n",
    "x = np.reshape(_FSpecialGauss(size, sigma), (1, size, size, 1))"
   ]
  },
  {
   "cell_type": "code",
   "execution_count": 24,
   "metadata": {},
   "outputs": [
    {
     "data": {
      "image/png": "[encoded data removed]",
      "text/plain": [
       "<matplotlib.figure.Figure at 0x7f30f2d50048>"
      ]
     },
     "metadata": {},
     "output_type": "display_data"
    }
   ],
   "source": [
    "plt.imshow(x[0,:,:,0])\n",
    "plt.show()"
   ]
  },
  {
   "cell_type": "code",
   "execution_count": null,
   "metadata": {
    "collapsed": true
   },
   "outputs": [],
   "source": [
    "\n",
    "def MultiScaleSSIM(img1, img2, max_val=255, filter_size=11, filter_sigma=1.5,\n",
    "                   k1=0.01, k2=0.03, weights=None):\n",
    "    if img1.shape != img2.shape:\n",
    "        raise RuntimeError('Input images must have the same shape (%s vs. %s).',\n",
    "                       img1.shape, img2.shape)\n",
    "    if img1.ndim != 4:\n",
    "        raise RuntimeError('Input images must have four dimensions, not %d',\n",
    "                       img1.ndim)\n",
    "\n",
    "    # Note: default weights don't sum to 1.0 but do match the paper / matlab code.\n",
    "    weights = np.array(weights if weights else\n",
    "                     [0.0448, 0.2856, 0.3001, 0.2363, 0.1333])\n",
    "    levels = weights.size\n",
    "    downsample_filter = np.ones((1, 2, 2, 1)) / 4.0\n",
    "    im1, im2 = [x.astype(np.float64) for x in [img1, img2]]\n",
    "    mssim = np.array([])\n",
    "    mcs = np.array([])\n",
    "    for _ in range(levels):\n",
    "        ssim, cs = _SSIMForMultiScale(\n",
    "            im1, im2, max_val=max_val, filter_size=filter_size,\n",
    "            filter_sigma=filter_sigma, k1=k1, k2=k2)\n",
    "        mssim = np.append(mssim, ssim)\n",
    "        mcs = np.append(mcs, cs)\n",
    "        filtered = [convolve(im, downsample_filter, mode='reflect')\n",
    "                for im in [im1, im2]]\n",
    "        im1, im2 = [x[:, ::2, ::2, :] for x in filtered]\n",
    "    return (np.prod(mcs[0:levels-1] ** weights[0:levels-1]) *\n",
    "          (mssim[levels-1] ** weights[levels-1]))\n"
   ]
  }
 ],
 "metadata": {
  "kernelspec": {
   "display_name": "Python 3",
   "language": "python",
   "name": "python3"
  },
  "language_info": {
   "codemirror_mode": {
    "name": "ipython",
    "version": 3
   },
   "file_extension": ".py",
   "mimetype": "text/x-python",
   "name": "python",
   "nbconvert_exporter": "python",
   "pygments_lexer": "ipython3",
   "version": "3.5.2"
  }
 },
 "nbformat": 4,
 "nbformat_minor": 2
}
